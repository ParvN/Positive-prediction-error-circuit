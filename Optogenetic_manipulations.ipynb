{
 "cells": [
  {
   "cell_type": "code",
   "execution_count": 1,
   "metadata": {},
   "outputs": [],
   "source": [
    "import numpy as np\n",
    "import math\n",
    "import matplotlib.pyplot as plt\n",
    "import random\n",
    "import numba as nb\n",
    "import time\n",
    "import pandas as pd\n",
    "import seaborn as sns\n",
    "from numba import types\n",
    "from numba.typed import Dict\n",
    "from utils import *\n",
    "from simulate import *\n",
    "from plot import *"
   ]
  },
  {
   "cell_type": "code",
   "execution_count": 2,
   "metadata": {},
   "outputs": [
    {
     "name": "stdout",
     "output_type": "stream",
     "text": [
      "7.38 0 3.55625 3.4 4.0\n"
     ]
    }
   ],
   "source": [
    "from numba.typed import Dict\n",
    "weight_dict = Dict.empty(key_type=types.unicode_type, value_type=types.float64,)\n",
    "neurons_dict = Dict.empty(key_type=types.unicode_type, value_type=types.int64,)\n",
    "stim_dict = Dict.empty(key_type=types.unicode_type, value_type=types.int64,)\n",
    "flag_dict = Dict.empty(key_type=types.unicode_type, value_type=types.int64,)\n",
    "rates_dict = Dict.empty(key_type=types.unicode_type, value_type=types.float64,)\n",
    "eta_dict = Dict.empty(key_type=types.unicode_type, value_type=types.float64,)\n",
    "fixed_inp = Dict.empty(key_type=types.unicode_type, value_type=types.float64,)\n",
    "stim_params = Dict.empty(key_type=types.unicode_type, value_type=types.float64,)\n",
    "\n",
    "rates = Dict.empty(key_type=types.unicode_type, value_type=types.float64[:,:] )\n",
    "weights = Dict.empty(key_type=types.unicode_type, value_type=types.float64[:])\n",
    "\n",
    "weight_dict['wed']  = 1.5\n",
    "weight_dict['wpe']  = 1.5\n",
    "weight_dict['wpp']  = 0.5\n",
    "weight_dict['wse']  = 1\n",
    "weight_dict['wve']  = 1\n",
    "weight_dict['wde']  = 1.5\n",
    "weight_dict['wsv']  = 0.6\n",
    "weight_dict['wvs']  = 0.5\n",
    "weight_dict['wep']  = 3.19\n",
    "weight_dict['wpv']  = 0.1312\n",
    "weight_dict['wps']  = 0.7656\n",
    "weight_dict['wds']  = 1.49\n",
    "\n",
    "\n",
    "o_wep = 3.19\n",
    "o_wpv = 0.13124999999999998 \n",
    "o_wps = 0.765625 \n",
    "o_wds = 1.49\n",
    "\n",
    "stim = 3.5\n",
    "\n",
    "\n",
    "rates_dict['re'] = 1.0\n",
    "rates_dict['rd'] = 0.0\n",
    "rates_dict['rp'] = 2.0\n",
    "rates_dict['rs'] = 2.0\n",
    "rates_dict['rv'] = 4.0\n",
    "\n",
    "xE = rates_dict['re'] - weight_dict['wed'] * rates_dict['rd'] + o_wep * rates_dict['rp'] \n",
    "xD = 0\n",
    "xP = rates_dict['rp']  * (1.0 + weight_dict['wpp']) - weight_dict['wpe'] * rates_dict['re'] + o_wps * rates_dict['rs'] + o_wpv * rates_dict['rv']\n",
    "xS = rates_dict['rs'] - weight_dict['wse'] * rates_dict['re'] + weight_dict['wsv'] * rates_dict['rv'] \n",
    "xV = rates_dict['rv'] - weight_dict['wve'] * rates_dict['re'] + weight_dict['wvs'] * rates_dict['rs'] \n",
    "\n",
    "print(xE, xD, xP, xS, xV)\n",
    "\n",
    "neurons_dict['Ne']  = 70\n",
    "neurons_dict['Ni']  = 10\n",
    "\n",
    "stim_dict['Ve']     = 1\n",
    "stim_dict['Vp']     = 0\n",
    "stim_dict['Mp']     = 1\n",
    "stim_dict['Vs']     = 0\n",
    "stim_dict['Ms']     = 1\n",
    "stim_dict['Vv']     = 1\n",
    "stim_dict['Mv']     = 0\n",
    "stim_dict['Md']     = 1\n",
    "\n",
    "stim_params['stim_value'] = stim\n",
    "stim_params['stim_dur'] = 7 # test stimulus\n",
    "stim_params['no_vis_stim'] = 1\n",
    "\n",
    "fixed_inp['xe'] = xE\n",
    "fixed_inp['xd'] = xD\n",
    "fixed_inp['xp'] = xP\n",
    "fixed_inp['xs'] = xS\n",
    "fixed_inp['xv'] = xV\n",
    "\n",
    "eta_dict['η1'] = 1e-6\n",
    "eta_dict['η2'] = 1e-6\n",
    "eta_dict['η3'] = 1e-7\n",
    "eta_dict['η4'] = 1e-7\n",
    "\n",
    "flag_dict['test'] = 1\n",
    "flag_dict['opto_gen'] = 0\n",
    "flag_dict['neuron_flag'] = 0\n",
    "flag_dict['opto_val'] = 0\n"
   ]
  },
  {
   "cell_type": "code",
   "execution_count": 3,
   "metadata": {},
   "outputs": [
    {
     "name": "stderr",
     "output_type": "stream",
     "text": [
      "C:\\Users\\SREE\\anaconda3\\lib\\site-packages\\numpy\\core\\fromnumeric.py:3335: RuntimeWarning: Mean of empty slice.\n",
      "  out=out, **kwargs)\n",
      "C:\\Users\\SREE\\anaconda3\\lib\\site-packages\\numpy\\core\\_methods.py:161: RuntimeWarning: invalid value encountered in double_scalars\n",
      "  ret = ret.dtype.type(ret / rcount)\n"
     ]
    },
    {
     "data": {
      "image/png": "[encoded data removed]",
      "text/plain": [
       "<Figure size 840x280 with 3 Axes>"
      ]
     },
     "metadata": {
      "needs_background": "light"
     },
     "output_type": "display_data"
    }
   ],
   "source": [
    "opt_vals = np.arange(-10,11,1)\n",
    "neuron_flags = [0,1,2]\n",
    "x = 10000\n",
    "op_array = np.zeros((4,len(neuron_flags),len(opt_vals)))\n",
    "for i in range(len(opt_vals)):\n",
    "    test=True\n",
    "    opto_gen = True\n",
    "    opto_val = opt_vals[i]\n",
    "    flag_dict['opto_val'] = opto_val\n",
    "    for j in range(len(neuron_flags)):        \n",
    "        rates,weights = Simulate(weight_dict, neurons_dict, rates_dict, stim_dict, eta_dict, flag_dict, stim_params, fixed_inp, rates, weights)\n",
    "        I_e = rates['Ie']\n",
    "        Ie = np.mean(I_e,axis=1)\n",
    "        fb_mean = np.mean(Ie[x:2*x])\n",
    "        mm_mean = np.mean(Ie[3*x:4*x])\n",
    "        pb_mean = np.mean(Ie[5*x:6*x])\n",
    "        bl_mean = (np.mean(Ie[0:x])+np.mean(Ie[2*x:3*x])+np.mean(Ie[4*x:5*x])+np.mean(Ie[6*x:7*x]))/4\n",
    "        \n",
    "        op_array[0][j][i] = fb_mean\n",
    "        op_array[1][j][i] = mm_mean\n",
    "        op_array[2][j][i] = pb_mean\n",
    "        op_array[3][j][i] = bl_mean\n",
    "    \n",
    "neurons = [\"PV\",\"SOM\",\"VIP\"]\n",
    "fig,axs = plt.subplots(1,3,figsize=(12,4),dpi=70)\n",
    "for i in range(len(axs)):\n",
    "    \n",
    "    axs[i].set_title('%s'%(neurons[i]))\n",
    "    axs[i].plot(opt_vals,op_array[0,i],label=\"Feedback\",marker=\"*\")\n",
    "    axs[i].plot(opt_vals,op_array[1,i],label=\"Mismatch\",marker=\"+\")\n",
    "    axs[i].plot(opt_vals,op_array[2,i],label=\"Playback\",marker=\"x\")\n",
    "    axs[i].plot(opt_vals,op_array[3,i],label=\"Baseline\",marker=\".\")\n",
    "    axs[i].legend(loc=\"best\",frameon=False)\n",
    "    axs[i].spines['top'].set_visible(False)\n",
    "    axs[i].spines['right'].set_visible(False)\n",
    "axs[0].set_ylabel(\"Total Exc input\")      \n",
    "fig.suptitle(\"PC = Visual, PV = Motor\")\n",
    "fig.tight_layout()\n",
    "plt.subplots_adjust(top=0.85)\n",
    "plt.show()"
   ]
  },
  {
   "cell_type": "code",
   "execution_count": null,
   "metadata": {},
   "outputs": [],
   "source": []
  }
 ],
 "metadata": {
  "kernelspec": {
   "display_name": "Python 3",
   "language": "python",
   "name": "python3"
  },
  "language_info": {
   "codemirror_mode": {
    "name": "ipython",
    "version": 3
   },
   "file_extension": ".py",
   "mimetype": "text/x-python",
   "name": "python",
   "nbconvert_exporter": "python",
   "pygments_lexer": "ipython3",
   "version": "3.7.6"
  }
 },
 "nbformat": 4,
 "nbformat_minor": 4
}
