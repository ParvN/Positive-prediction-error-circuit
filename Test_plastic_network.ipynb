{
 "cells": [
  {
   "cell_type": "markdown",
   "metadata": {},
   "source": [
    "#### Notebook to test plasticity network. \n",
    "#### Different parameters are defined in dictionaries. \n",
    "#### Run simulation with simulate() and get the rates and plastic weights as dictionaries."
   ]
  },
  {
   "cell_type": "code",
   "execution_count": null,
   "metadata": {},
   "outputs": [],
   "source": [
    "import time\n",
    "import random\n",
    "import math\n",
    "import numba as nb\n",
    "import numpy as np\n",
    "from numba import njit\n",
    "from numba import types\n",
    "from numba.typed import Dict\n",
    "from utils import *\n",
    "from simulate import *\n",
    "from plot import *"
   ]
  },
  {
   "cell_type": "code",
   "execution_count": 2,
   "metadata": {},
   "outputs": [
    {
     "name": "stdout",
     "output_type": "stream",
     "text": [
      "7.38 0 4.08125 5.8 8.0\n"
     ]
    }
   ],
   "source": [
    "from numba.typed import Dict\n",
    "weight_dict = Dict.empty(key_type=types.unicode_type, value_type=types.float64,)\n",
    "neurons_dict = Dict.empty(key_type=types.unicode_type, value_type=types.int64,)\n",
    "stim_dict = Dict.empty(key_type=types.unicode_type, value_type=types.int64,)\n",
    "flag_dict = Dict.empty(key_type=types.unicode_type, value_type=types.int64,)\n",
    "rates_dict = Dict.empty(key_type=types.unicode_type, value_type=types.float64,)\n",
    "eta_dict = Dict.empty(key_type=types.unicode_type, value_type=types.float64,)\n",
    "fixed_inp = Dict.empty(key_type=types.unicode_type, value_type=types.float64,)\n",
    "stim_params = Dict.empty(key_type=types.unicode_type, value_type=types.float64,)\n",
    "\n",
    "rates = Dict.empty(key_type=types.unicode_type, value_type=types.float64[:,:] )\n",
    "weights = Dict.empty(key_type=types.unicode_type, value_type=types.float64[:])\n",
    "\n",
    "weight_dict['wed']  = 1.5\n",
    "weight_dict['wpe']  = 1.5\n",
    "weight_dict['wpp']  = 0.5\n",
    "weight_dict['wse']  = 1\n",
    "weight_dict['wve']  = 1\n",
    "weight_dict['wde']  = 1.5\n",
    "weight_dict['wsv']  = 0.6\n",
    "weight_dict['wvs']  = 0.5\n",
    "weight_dict['wep']  = 1.75\n",
    "weight_dict['wpv']  = 0.6\n",
    "weight_dict['wps']  = 0.3\n",
    "weight_dict['wds']  = 0.35\n",
    "\n",
    "\n",
    "o_wep = 3.19\n",
    "o_wpv = 0.13124999999999998 \n",
    "o_wps = 0.765625 \n",
    "o_wds = 1.49\n",
    "\n",
    "stim = 10\n",
    "\n",
    "\n",
    "rates_dict['re'] = 1.0\n",
    "rates_dict['rd'] = 0.0\n",
    "rates_dict['rp'] = 2.0\n",
    "rates_dict['rs'] = 2.0\n",
    "rates_dict['rv'] = 8.0\n",
    "\n",
    "xE = rates_dict['re'] - weight_dict['wed'] * rates_dict['rd'] + o_wep * rates_dict['rp'] \n",
    "xD = 0\n",
    "xP = rates_dict['rp']  * (1.0 + weight_dict['wpp']) - weight_dict['wpe'] * rates_dict['re'] + o_wps * rates_dict['rs'] + o_wpv * rates_dict['rv']\n",
    "xS = rates_dict['rs'] - weight_dict['wse'] * rates_dict['re'] + weight_dict['wsv'] * rates_dict['rv'] \n",
    "xV = rates_dict['rv'] - weight_dict['wve'] * rates_dict['re'] + weight_dict['wvs'] * rates_dict['rs'] \n",
    "\n",
    "print(xE, xD, xP, xS, xV)\n",
    "\n",
    "neurons_dict['Ne']  = 70\n",
    "neurons_dict['Ni']  = 10\n",
    "\n",
    "stim_dict['Ve']     = 1\n",
    "stim_dict['Vp']     = 0\n",
    "stim_dict['Mp']     = 1\n",
    "stim_dict['Vs']     = 0\n",
    "stim_dict['Ms']     = 1\n",
    "stim_dict['Vv']     = 1\n",
    "stim_dict['Mv']     = 0\n",
    "stim_dict['Md']     = 1\n",
    "\n",
    "stim_params['stim_value'] = stim\n",
    "stim_params['stim_dur'] = 6500\n",
    "stim_params['no_vis_stim'] = 1650\n",
    "\n",
    "fixed_inp['xe'] = xE\n",
    "fixed_inp['xd'] = xD\n",
    "fixed_inp['xp'] = xP\n",
    "fixed_inp['xs'] = xS\n",
    "fixed_inp['xv'] = xV\n",
    "\n",
    "eta_dict['η1'] = 1e-6\n",
    "eta_dict['η2'] = 1e-6\n",
    "eta_dict['η3'] = 1e-7\n",
    "eta_dict['η4'] = 1e-7\n",
    "\n",
    "flag_dict['test'] = 0\n",
    "flag_dict['opto_gen'] = 0\n",
    "flag_dict['neuron_flag'] = 0\n",
    "flag_dict['opto_val'] = 0\n"
   ]
  },
  {
   "cell_type": "code",
   "execution_count": null,
   "metadata": {},
   "outputs": [],
   "source": [
    "rates, weights = Simulate(weight_dict, neurons_dict, rates_dict, stim_dict, eta_dict, flag_dict, stim_params, fixed_inp, rates, weights)"
   ]
  },
  {
   "cell_type": "code",
   "execution_count": null,
   "metadata": {},
   "outputs": [],
   "source": [
    "re = rates['re']\n",
    "rd = rates['rd']\n",
    "rs = rates['rs']\n",
    "rv = rates['rv']\n",
    "rp = rates['rp']\n",
    "\n",
    "wds_track = weights['w_ds']\n",
    "wep_track = weights['w_ep']\n",
    "wpv_track = weights['w_pv']\n",
    "wps_track = weights['w_ps']"
   ]
  },
  {
   "cell_type": "code",
   "execution_count": null,
   "metadata": {},
   "outputs": [],
   "source": [
    "plot_rates(re,rd,rp,rv,rs,stim_params['stim_dur'])"
   ]
  },
  {
   "cell_type": "code",
   "execution_count": null,
   "metadata": {},
   "outputs": [],
   "source": []
  }
 ],
 "metadata": {
  "kernelspec": {
   "display_name": "Python 3",
   "language": "python",
   "name": "python3"
  },
  "language_info": {
   "codemirror_mode": {
    "name": "ipython",
    "version": 3
   },
   "file_extension": ".py",
   "mimetype": "text/x-python",
   "name": "python",
   "nbconvert_exporter": "python",
   "pygments_lexer": "ipython3",
   "version": "3.7.6"
  }
 },
 "nbformat": 4,
 "nbformat_minor": 4
}
